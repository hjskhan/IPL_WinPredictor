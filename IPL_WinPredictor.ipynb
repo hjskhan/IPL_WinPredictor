{
 "cells": [
  {
   "cell_type": "code",
   "execution_count": 682,
   "id": "11f4bae4",
   "metadata": {},
   "outputs": [],
   "source": [
    "import pandas as pd\n",
    "import numpy as np\n",
    "import matplotlib.pyplot as plt\n",
    "import seaborn as sns"
   ]
  },
  {
   "cell_type": "code",
   "execution_count": 683,
   "id": "caf99f93",
   "metadata": {},
   "outputs": [],
   "source": [
    "deliveries_df = pd.read_csv('deliveries.csv')\n",
    "matches_df = pd.read_csv('matches.csv')"
   ]
  },
  {
   "cell_type": "code",
   "execution_count": 684,
   "id": "910b85de",
   "metadata": {},
   "outputs": [
    {
     "data": {
      "text/html": [
       "<div>\n",
       "<style scoped>\n",
       "    .dataframe tbody tr th:only-of-type {\n",
       "        vertical-align: middle;\n",
       "    }\n",
       "\n",
       "    .dataframe tbody tr th {\n",
       "        vertical-align: top;\n",
       "    }\n",
       "\n",
       "    .dataframe thead th {\n",
       "        text-align: right;\n",
       "    }\n",
       "</style>\n",
       "<table border=\"1\" class=\"dataframe\">\n",
       "  <thead>\n",
       "    <tr style=\"text-align: right;\">\n",
       "      <th></th>\n",
       "      <th>match_id</th>\n",
       "      <th>inning</th>\n",
       "      <th>batting_team</th>\n",
       "      <th>bowling_team</th>\n",
       "      <th>over</th>\n",
       "      <th>ball</th>\n",
       "      <th>batsman</th>\n",
       "      <th>non_striker</th>\n",
       "      <th>bowler</th>\n",
       "      <th>is_super_over</th>\n",
       "      <th>...</th>\n",
       "      <th>bye_runs</th>\n",
       "      <th>legbye_runs</th>\n",
       "      <th>noball_runs</th>\n",
       "      <th>penalty_runs</th>\n",
       "      <th>batsman_runs</th>\n",
       "      <th>extra_runs</th>\n",
       "      <th>total_runs</th>\n",
       "      <th>player_dismissed</th>\n",
       "      <th>dismissal_kind</th>\n",
       "      <th>fielder</th>\n",
       "    </tr>\n",
       "  </thead>\n",
       "  <tbody>\n",
       "    <tr>\n",
       "      <th>0</th>\n",
       "      <td>1</td>\n",
       "      <td>1</td>\n",
       "      <td>Sunrisers Hyderabad</td>\n",
       "      <td>Royal Challengers Bangalore</td>\n",
       "      <td>1</td>\n",
       "      <td>1</td>\n",
       "      <td>DA Warner</td>\n",
       "      <td>S Dhawan</td>\n",
       "      <td>TS Mills</td>\n",
       "      <td>0</td>\n",
       "      <td>...</td>\n",
       "      <td>0</td>\n",
       "      <td>0</td>\n",
       "      <td>0</td>\n",
       "      <td>0</td>\n",
       "      <td>0</td>\n",
       "      <td>0</td>\n",
       "      <td>0</td>\n",
       "      <td>NaN</td>\n",
       "      <td>NaN</td>\n",
       "      <td>NaN</td>\n",
       "    </tr>\n",
       "    <tr>\n",
       "      <th>1</th>\n",
       "      <td>1</td>\n",
       "      <td>1</td>\n",
       "      <td>Sunrisers Hyderabad</td>\n",
       "      <td>Royal Challengers Bangalore</td>\n",
       "      <td>1</td>\n",
       "      <td>2</td>\n",
       "      <td>DA Warner</td>\n",
       "      <td>S Dhawan</td>\n",
       "      <td>TS Mills</td>\n",
       "      <td>0</td>\n",
       "      <td>...</td>\n",
       "      <td>0</td>\n",
       "      <td>0</td>\n",
       "      <td>0</td>\n",
       "      <td>0</td>\n",
       "      <td>0</td>\n",
       "      <td>0</td>\n",
       "      <td>0</td>\n",
       "      <td>NaN</td>\n",
       "      <td>NaN</td>\n",
       "      <td>NaN</td>\n",
       "    </tr>\n",
       "    <tr>\n",
       "      <th>2</th>\n",
       "      <td>1</td>\n",
       "      <td>1</td>\n",
       "      <td>Sunrisers Hyderabad</td>\n",
       "      <td>Royal Challengers Bangalore</td>\n",
       "      <td>1</td>\n",
       "      <td>3</td>\n",
       "      <td>DA Warner</td>\n",
       "      <td>S Dhawan</td>\n",
       "      <td>TS Mills</td>\n",
       "      <td>0</td>\n",
       "      <td>...</td>\n",
       "      <td>0</td>\n",
       "      <td>0</td>\n",
       "      <td>0</td>\n",
       "      <td>0</td>\n",
       "      <td>4</td>\n",
       "      <td>0</td>\n",
       "      <td>4</td>\n",
       "      <td>NaN</td>\n",
       "      <td>NaN</td>\n",
       "      <td>NaN</td>\n",
       "    </tr>\n",
       "  </tbody>\n",
       "</table>\n",
       "<p>3 rows × 21 columns</p>\n",
       "</div>"
      ],
      "text/plain": [
       "   match_id  inning         batting_team                 bowling_team  over  \\\n",
       "0         1       1  Sunrisers Hyderabad  Royal Challengers Bangalore     1   \n",
       "1         1       1  Sunrisers Hyderabad  Royal Challengers Bangalore     1   \n",
       "2         1       1  Sunrisers Hyderabad  Royal Challengers Bangalore     1   \n",
       "\n",
       "   ball    batsman non_striker    bowler  is_super_over  ...  bye_runs  \\\n",
       "0     1  DA Warner    S Dhawan  TS Mills              0  ...         0   \n",
       "1     2  DA Warner    S Dhawan  TS Mills              0  ...         0   \n",
       "2     3  DA Warner    S Dhawan  TS Mills              0  ...         0   \n",
       "\n",
       "   legbye_runs  noball_runs  penalty_runs  batsman_runs  extra_runs  \\\n",
       "0            0            0             0             0           0   \n",
       "1            0            0             0             0           0   \n",
       "2            0            0             0             4           0   \n",
       "\n",
       "   total_runs  player_dismissed dismissal_kind fielder  \n",
       "0           0               NaN            NaN     NaN  \n",
       "1           0               NaN            NaN     NaN  \n",
       "2           4               NaN            NaN     NaN  \n",
       "\n",
       "[3 rows x 21 columns]"
      ]
     },
     "execution_count": 684,
     "metadata": {},
     "output_type": "execute_result"
    }
   ],
   "source": [
    "deliveries_df.head(3)"
   ]
  },
  {
   "cell_type": "code",
   "execution_count": 685,
   "id": "87598ae1",
   "metadata": {},
   "outputs": [
    {
     "data": {
      "text/plain": [
       "match_id                 0\n",
       "inning                   0\n",
       "batting_team             0\n",
       "bowling_team             0\n",
       "over                     0\n",
       "ball                     0\n",
       "batsman                  0\n",
       "non_striker              0\n",
       "bowler                   0\n",
       "is_super_over            0\n",
       "wide_runs                0\n",
       "bye_runs                 0\n",
       "legbye_runs              0\n",
       "noball_runs              0\n",
       "penalty_runs             0\n",
       "batsman_runs             0\n",
       "extra_runs               0\n",
       "total_runs               0\n",
       "player_dismissed    170244\n",
       "dismissal_kind      170244\n",
       "fielder             172630\n",
       "dtype: int64"
      ]
     },
     "execution_count": 685,
     "metadata": {},
     "output_type": "execute_result"
    }
   ],
   "source": [
    "deliveries_df.isna().sum()"
   ]
  },
  {
   "cell_type": "code",
   "execution_count": 686,
   "id": "58e3e6c2",
   "metadata": {},
   "outputs": [],
   "source": [
    "deliveries_df.drop(['dismissal_kind','fielder'],axis=1,inplace=True)"
   ]
  },
  {
   "cell_type": "code",
   "execution_count": 687,
   "id": "0745b380",
   "metadata": {},
   "outputs": [
    {
     "data": {
      "text/plain": [
       "170244"
      ]
     },
     "execution_count": 687,
     "metadata": {},
     "output_type": "execute_result"
    }
   ],
   "source": [
    "deliveries_df.isna().sum().sum()"
   ]
  },
  {
   "cell_type": "code",
   "execution_count": 688,
   "id": "73cc1c7a",
   "metadata": {},
   "outputs": [
    {
     "data": {
      "text/html": [
       "<div>\n",
       "<style scoped>\n",
       "    .dataframe tbody tr th:only-of-type {\n",
       "        vertical-align: middle;\n",
       "    }\n",
       "\n",
       "    .dataframe tbody tr th {\n",
       "        vertical-align: top;\n",
       "    }\n",
       "\n",
       "    .dataframe thead th {\n",
       "        text-align: right;\n",
       "    }\n",
       "</style>\n",
       "<table border=\"1\" class=\"dataframe\">\n",
       "  <thead>\n",
       "    <tr style=\"text-align: right;\">\n",
       "      <th></th>\n",
       "      <th>id</th>\n",
       "      <th>Season</th>\n",
       "      <th>city</th>\n",
       "      <th>date</th>\n",
       "      <th>team1</th>\n",
       "      <th>team2</th>\n",
       "      <th>toss_winner</th>\n",
       "      <th>toss_decision</th>\n",
       "      <th>result</th>\n",
       "      <th>dl_applied</th>\n",
       "      <th>winner</th>\n",
       "      <th>win_by_runs</th>\n",
       "      <th>win_by_wickets</th>\n",
       "      <th>player_of_match</th>\n",
       "      <th>venue</th>\n",
       "      <th>umpire1</th>\n",
       "      <th>umpire2</th>\n",
       "      <th>umpire3</th>\n",
       "    </tr>\n",
       "  </thead>\n",
       "  <tbody>\n",
       "    <tr>\n",
       "      <th>0</th>\n",
       "      <td>1</td>\n",
       "      <td>IPL-2017</td>\n",
       "      <td>Hyderabad</td>\n",
       "      <td>05-04-2017</td>\n",
       "      <td>Sunrisers Hyderabad</td>\n",
       "      <td>Royal Challengers Bangalore</td>\n",
       "      <td>Royal Challengers Bangalore</td>\n",
       "      <td>field</td>\n",
       "      <td>normal</td>\n",
       "      <td>0</td>\n",
       "      <td>Sunrisers Hyderabad</td>\n",
       "      <td>35</td>\n",
       "      <td>0</td>\n",
       "      <td>Yuvraj Singh</td>\n",
       "      <td>Rajiv Gandhi International Stadium, Uppal</td>\n",
       "      <td>AY Dandekar</td>\n",
       "      <td>NJ Llong</td>\n",
       "      <td>NaN</td>\n",
       "    </tr>\n",
       "    <tr>\n",
       "      <th>1</th>\n",
       "      <td>2</td>\n",
       "      <td>IPL-2017</td>\n",
       "      <td>Pune</td>\n",
       "      <td>06-04-2017</td>\n",
       "      <td>Mumbai Indians</td>\n",
       "      <td>Rising Pune Supergiant</td>\n",
       "      <td>Rising Pune Supergiant</td>\n",
       "      <td>field</td>\n",
       "      <td>normal</td>\n",
       "      <td>0</td>\n",
       "      <td>Rising Pune Supergiant</td>\n",
       "      <td>0</td>\n",
       "      <td>7</td>\n",
       "      <td>SPD Smith</td>\n",
       "      <td>Maharashtra Cricket Association Stadium</td>\n",
       "      <td>A Nand Kishore</td>\n",
       "      <td>S Ravi</td>\n",
       "      <td>NaN</td>\n",
       "    </tr>\n",
       "    <tr>\n",
       "      <th>2</th>\n",
       "      <td>3</td>\n",
       "      <td>IPL-2017</td>\n",
       "      <td>Rajkot</td>\n",
       "      <td>07-04-2017</td>\n",
       "      <td>Gujarat Lions</td>\n",
       "      <td>Kolkata Knight Riders</td>\n",
       "      <td>Kolkata Knight Riders</td>\n",
       "      <td>field</td>\n",
       "      <td>normal</td>\n",
       "      <td>0</td>\n",
       "      <td>Kolkata Knight Riders</td>\n",
       "      <td>0</td>\n",
       "      <td>10</td>\n",
       "      <td>CA Lynn</td>\n",
       "      <td>Saurashtra Cricket Association Stadium</td>\n",
       "      <td>Nitin Menon</td>\n",
       "      <td>CK Nandan</td>\n",
       "      <td>NaN</td>\n",
       "    </tr>\n",
       "  </tbody>\n",
       "</table>\n",
       "</div>"
      ],
      "text/plain": [
       "   id    Season       city        date                team1  \\\n",
       "0   1  IPL-2017  Hyderabad  05-04-2017  Sunrisers Hyderabad   \n",
       "1   2  IPL-2017       Pune  06-04-2017       Mumbai Indians   \n",
       "2   3  IPL-2017     Rajkot  07-04-2017        Gujarat Lions   \n",
       "\n",
       "                         team2                  toss_winner toss_decision  \\\n",
       "0  Royal Challengers Bangalore  Royal Challengers Bangalore         field   \n",
       "1       Rising Pune Supergiant       Rising Pune Supergiant         field   \n",
       "2        Kolkata Knight Riders        Kolkata Knight Riders         field   \n",
       "\n",
       "   result  dl_applied                  winner  win_by_runs  win_by_wickets  \\\n",
       "0  normal           0     Sunrisers Hyderabad           35               0   \n",
       "1  normal           0  Rising Pune Supergiant            0               7   \n",
       "2  normal           0   Kolkata Knight Riders            0              10   \n",
       "\n",
       "  player_of_match                                      venue         umpire1  \\\n",
       "0    Yuvraj Singh  Rajiv Gandhi International Stadium, Uppal     AY Dandekar   \n",
       "1       SPD Smith    Maharashtra Cricket Association Stadium  A Nand Kishore   \n",
       "2         CA Lynn     Saurashtra Cricket Association Stadium     Nitin Menon   \n",
       "\n",
       "     umpire2 umpire3  \n",
       "0   NJ Llong     NaN  \n",
       "1     S Ravi     NaN  \n",
       "2  CK Nandan     NaN  "
      ]
     },
     "execution_count": 688,
     "metadata": {},
     "output_type": "execute_result"
    }
   ],
   "source": [
    "matches_df.head(3)"
   ]
  },
  {
   "cell_type": "code",
   "execution_count": 689,
   "id": "13a1ed73",
   "metadata": {},
   "outputs": [
    {
     "data": {
      "text/plain": [
       "id                   0\n",
       "Season               0\n",
       "city                 7\n",
       "date                 0\n",
       "team1                0\n",
       "team2                0\n",
       "toss_winner          0\n",
       "toss_decision        0\n",
       "result               0\n",
       "dl_applied           0\n",
       "winner               4\n",
       "win_by_runs          0\n",
       "win_by_wickets       0\n",
       "player_of_match      4\n",
       "venue                0\n",
       "umpire1              2\n",
       "umpire2              2\n",
       "umpire3            637\n",
       "dtype: int64"
      ]
     },
     "execution_count": 689,
     "metadata": {},
     "output_type": "execute_result"
    }
   ],
   "source": [
    "matches_df.isna().sum()"
   ]
  },
  {
   "cell_type": "code",
   "execution_count": 690,
   "id": "4a7f2701",
   "metadata": {},
   "outputs": [],
   "source": [
    "matches_df.drop(['umpire3'],axis=1,inplace=True)"
   ]
  },
  {
   "cell_type": "code",
   "execution_count": 691,
   "id": "8cc35f4d",
   "metadata": {},
   "outputs": [
    {
     "data": {
      "text/html": [
       "<div>\n",
       "<style scoped>\n",
       "    .dataframe tbody tr th:only-of-type {\n",
       "        vertical-align: middle;\n",
       "    }\n",
       "\n",
       "    .dataframe tbody tr th {\n",
       "        vertical-align: top;\n",
       "    }\n",
       "\n",
       "    .dataframe thead th {\n",
       "        text-align: right;\n",
       "    }\n",
       "</style>\n",
       "<table border=\"1\" class=\"dataframe\">\n",
       "  <thead>\n",
       "    <tr style=\"text-align: right;\">\n",
       "      <th></th>\n",
       "      <th>city</th>\n",
       "      <th>winner</th>\n",
       "      <th>player_of_match</th>\n",
       "      <th>umpire1</th>\n",
       "      <th>umpire2</th>\n",
       "    </tr>\n",
       "  </thead>\n",
       "  <tbody>\n",
       "    <tr>\n",
       "      <th>0</th>\n",
       "      <td>Hyderabad</td>\n",
       "      <td>Sunrisers Hyderabad</td>\n",
       "      <td>Yuvraj Singh</td>\n",
       "      <td>AY Dandekar</td>\n",
       "      <td>NJ Llong</td>\n",
       "    </tr>\n",
       "    <tr>\n",
       "      <th>1</th>\n",
       "      <td>Pune</td>\n",
       "      <td>Rising Pune Supergiant</td>\n",
       "      <td>SPD Smith</td>\n",
       "      <td>A Nand Kishore</td>\n",
       "      <td>S Ravi</td>\n",
       "    </tr>\n",
       "    <tr>\n",
       "      <th>2</th>\n",
       "      <td>Rajkot</td>\n",
       "      <td>Kolkata Knight Riders</td>\n",
       "      <td>CA Lynn</td>\n",
       "      <td>Nitin Menon</td>\n",
       "      <td>CK Nandan</td>\n",
       "    </tr>\n",
       "    <tr>\n",
       "      <th>3</th>\n",
       "      <td>Indore</td>\n",
       "      <td>Kings XI Punjab</td>\n",
       "      <td>GJ Maxwell</td>\n",
       "      <td>AK Chaudhary</td>\n",
       "      <td>C Shamshuddin</td>\n",
       "    </tr>\n",
       "    <tr>\n",
       "      <th>4</th>\n",
       "      <td>Bangalore</td>\n",
       "      <td>Royal Challengers Bangalore</td>\n",
       "      <td>KM Jadhav</td>\n",
       "      <td>NaN</td>\n",
       "      <td>NaN</td>\n",
       "    </tr>\n",
       "    <tr>\n",
       "      <th>...</th>\n",
       "      <td>...</td>\n",
       "      <td>...</td>\n",
       "      <td>...</td>\n",
       "      <td>...</td>\n",
       "      <td>...</td>\n",
       "    </tr>\n",
       "    <tr>\n",
       "      <th>751</th>\n",
       "      <td>Mumbai</td>\n",
       "      <td>Mumbai Indians</td>\n",
       "      <td>HH Pandya</td>\n",
       "      <td>Nanda Kishore</td>\n",
       "      <td>O Nandan</td>\n",
       "    </tr>\n",
       "    <tr>\n",
       "      <th>752</th>\n",
       "      <td>Chennai</td>\n",
       "      <td>Mumbai Indians</td>\n",
       "      <td>AS Yadav</td>\n",
       "      <td>Nigel Llong</td>\n",
       "      <td>Nitin Menon</td>\n",
       "    </tr>\n",
       "    <tr>\n",
       "      <th>753</th>\n",
       "      <td>Visakhapatnam</td>\n",
       "      <td>Delhi Capitals</td>\n",
       "      <td>RR Pant</td>\n",
       "      <td>NaN</td>\n",
       "      <td>NaN</td>\n",
       "    </tr>\n",
       "    <tr>\n",
       "      <th>754</th>\n",
       "      <td>Visakhapatnam</td>\n",
       "      <td>Chennai Super Kings</td>\n",
       "      <td>F du Plessis</td>\n",
       "      <td>Sundaram Ravi</td>\n",
       "      <td>Bruce Oxenford</td>\n",
       "    </tr>\n",
       "    <tr>\n",
       "      <th>755</th>\n",
       "      <td>Hyderabad</td>\n",
       "      <td>Mumbai Indians</td>\n",
       "      <td>JJ Bumrah</td>\n",
       "      <td>Nitin Menon</td>\n",
       "      <td>Ian Gould</td>\n",
       "    </tr>\n",
       "  </tbody>\n",
       "</table>\n",
       "<p>756 rows × 5 columns</p>\n",
       "</div>"
      ],
      "text/plain": [
       "              city                       winner player_of_match  \\\n",
       "0        Hyderabad          Sunrisers Hyderabad    Yuvraj Singh   \n",
       "1             Pune       Rising Pune Supergiant       SPD Smith   \n",
       "2           Rajkot        Kolkata Knight Riders         CA Lynn   \n",
       "3           Indore              Kings XI Punjab      GJ Maxwell   \n",
       "4        Bangalore  Royal Challengers Bangalore       KM Jadhav   \n",
       "..             ...                          ...             ...   \n",
       "751         Mumbai               Mumbai Indians       HH Pandya   \n",
       "752        Chennai               Mumbai Indians        AS Yadav   \n",
       "753  Visakhapatnam               Delhi Capitals         RR Pant   \n",
       "754  Visakhapatnam          Chennai Super Kings    F du Plessis   \n",
       "755      Hyderabad               Mumbai Indians       JJ Bumrah   \n",
       "\n",
       "            umpire1         umpire2  \n",
       "0       AY Dandekar        NJ Llong  \n",
       "1    A Nand Kishore          S Ravi  \n",
       "2       Nitin Menon       CK Nandan  \n",
       "3      AK Chaudhary   C Shamshuddin  \n",
       "4               NaN             NaN  \n",
       "..              ...             ...  \n",
       "751   Nanda Kishore        O Nandan  \n",
       "752     Nigel Llong     Nitin Menon  \n",
       "753             NaN             NaN  \n",
       "754   Sundaram Ravi  Bruce Oxenford  \n",
       "755     Nitin Menon       Ian Gould  \n",
       "\n",
       "[756 rows x 5 columns]"
      ]
     },
     "execution_count": 691,
     "metadata": {},
     "output_type": "execute_result"
    }
   ],
   "source": [
    "matches_df[matches_df.isna().sum()[matches_df.isna().sum()>0].index.tolist()]"
   ]
  },
  {
   "cell_type": "code",
   "execution_count": 692,
   "id": "d68d7444",
   "metadata": {},
   "outputs": [
    {
     "data": {
      "text/html": [
       "<div>\n",
       "<style scoped>\n",
       "    .dataframe tbody tr th:only-of-type {\n",
       "        vertical-align: middle;\n",
       "    }\n",
       "\n",
       "    .dataframe tbody tr th {\n",
       "        vertical-align: top;\n",
       "    }\n",
       "\n",
       "    .dataframe thead th {\n",
       "        text-align: right;\n",
       "    }\n",
       "</style>\n",
       "<table border=\"1\" class=\"dataframe\">\n",
       "  <thead>\n",
       "    <tr style=\"text-align: right;\">\n",
       "      <th></th>\n",
       "      <th>id</th>\n",
       "      <th>Season</th>\n",
       "      <th>city</th>\n",
       "      <th>date</th>\n",
       "      <th>team1</th>\n",
       "      <th>team2</th>\n",
       "      <th>toss_winner</th>\n",
       "      <th>toss_decision</th>\n",
       "      <th>result</th>\n",
       "      <th>dl_applied</th>\n",
       "      <th>winner</th>\n",
       "      <th>win_by_runs</th>\n",
       "      <th>win_by_wickets</th>\n",
       "      <th>player_of_match</th>\n",
       "      <th>venue</th>\n",
       "      <th>umpire1</th>\n",
       "      <th>umpire2</th>\n",
       "    </tr>\n",
       "  </thead>\n",
       "  <tbody>\n",
       "    <tr>\n",
       "      <th>4</th>\n",
       "      <td>5</td>\n",
       "      <td>IPL-2017</td>\n",
       "      <td>Bangalore</td>\n",
       "      <td>08-04-2017</td>\n",
       "      <td>Royal Challengers Bangalore</td>\n",
       "      <td>Delhi Daredevils</td>\n",
       "      <td>Royal Challengers Bangalore</td>\n",
       "      <td>bat</td>\n",
       "      <td>normal</td>\n",
       "      <td>0</td>\n",
       "      <td>Royal Challengers Bangalore</td>\n",
       "      <td>15</td>\n",
       "      <td>0</td>\n",
       "      <td>KM Jadhav</td>\n",
       "      <td>M Chinnaswamy Stadium</td>\n",
       "      <td>NaN</td>\n",
       "      <td>NaN</td>\n",
       "    </tr>\n",
       "    <tr>\n",
       "      <th>300</th>\n",
       "      <td>301</td>\n",
       "      <td>IPL-2011</td>\n",
       "      <td>Delhi</td>\n",
       "      <td>21-05-2011</td>\n",
       "      <td>Delhi Daredevils</td>\n",
       "      <td>Pune Warriors</td>\n",
       "      <td>Delhi Daredevils</td>\n",
       "      <td>bat</td>\n",
       "      <td>no result</td>\n",
       "      <td>0</td>\n",
       "      <td>NaN</td>\n",
       "      <td>0</td>\n",
       "      <td>0</td>\n",
       "      <td>NaN</td>\n",
       "      <td>Feroz Shah Kotla</td>\n",
       "      <td>SS Hazare</td>\n",
       "      <td>RJ Tucker</td>\n",
       "    </tr>\n",
       "    <tr>\n",
       "      <th>461</th>\n",
       "      <td>462</td>\n",
       "      <td>IPL-2014</td>\n",
       "      <td>NaN</td>\n",
       "      <td>19-04-2014</td>\n",
       "      <td>Mumbai Indians</td>\n",
       "      <td>Royal Challengers Bangalore</td>\n",
       "      <td>Royal Challengers Bangalore</td>\n",
       "      <td>field</td>\n",
       "      <td>normal</td>\n",
       "      <td>0</td>\n",
       "      <td>Royal Challengers Bangalore</td>\n",
       "      <td>0</td>\n",
       "      <td>7</td>\n",
       "      <td>PA Patel</td>\n",
       "      <td>Dubai International Cricket Stadium</td>\n",
       "      <td>Aleem Dar</td>\n",
       "      <td>AK Chaudhary</td>\n",
       "    </tr>\n",
       "    <tr>\n",
       "      <th>462</th>\n",
       "      <td>463</td>\n",
       "      <td>IPL-2014</td>\n",
       "      <td>NaN</td>\n",
       "      <td>19-04-2014</td>\n",
       "      <td>Kolkata Knight Riders</td>\n",
       "      <td>Delhi Daredevils</td>\n",
       "      <td>Kolkata Knight Riders</td>\n",
       "      <td>bat</td>\n",
       "      <td>normal</td>\n",
       "      <td>0</td>\n",
       "      <td>Delhi Daredevils</td>\n",
       "      <td>0</td>\n",
       "      <td>4</td>\n",
       "      <td>JP Duminy</td>\n",
       "      <td>Dubai International Cricket Stadium</td>\n",
       "      <td>Aleem Dar</td>\n",
       "      <td>VA Kulkarni</td>\n",
       "    </tr>\n",
       "    <tr>\n",
       "      <th>466</th>\n",
       "      <td>467</td>\n",
       "      <td>IPL-2014</td>\n",
       "      <td>NaN</td>\n",
       "      <td>23-04-2014</td>\n",
       "      <td>Chennai Super Kings</td>\n",
       "      <td>Rajasthan Royals</td>\n",
       "      <td>Rajasthan Royals</td>\n",
       "      <td>field</td>\n",
       "      <td>normal</td>\n",
       "      <td>0</td>\n",
       "      <td>Chennai Super Kings</td>\n",
       "      <td>7</td>\n",
       "      <td>0</td>\n",
       "      <td>RA Jadeja</td>\n",
       "      <td>Dubai International Cricket Stadium</td>\n",
       "      <td>HDPK Dharmasena</td>\n",
       "      <td>RK Illingworth</td>\n",
       "    </tr>\n",
       "    <tr>\n",
       "      <th>468</th>\n",
       "      <td>469</td>\n",
       "      <td>IPL-2014</td>\n",
       "      <td>NaN</td>\n",
       "      <td>25-04-2014</td>\n",
       "      <td>Sunrisers Hyderabad</td>\n",
       "      <td>Delhi Daredevils</td>\n",
       "      <td>Sunrisers Hyderabad</td>\n",
       "      <td>bat</td>\n",
       "      <td>normal</td>\n",
       "      <td>0</td>\n",
       "      <td>Sunrisers Hyderabad</td>\n",
       "      <td>4</td>\n",
       "      <td>0</td>\n",
       "      <td>AJ Finch</td>\n",
       "      <td>Dubai International Cricket Stadium</td>\n",
       "      <td>M Erasmus</td>\n",
       "      <td>S Ravi</td>\n",
       "    </tr>\n",
       "    <tr>\n",
       "      <th>469</th>\n",
       "      <td>470</td>\n",
       "      <td>IPL-2014</td>\n",
       "      <td>NaN</td>\n",
       "      <td>25-04-2014</td>\n",
       "      <td>Mumbai Indians</td>\n",
       "      <td>Chennai Super Kings</td>\n",
       "      <td>Mumbai Indians</td>\n",
       "      <td>bat</td>\n",
       "      <td>normal</td>\n",
       "      <td>0</td>\n",
       "      <td>Chennai Super Kings</td>\n",
       "      <td>0</td>\n",
       "      <td>7</td>\n",
       "      <td>MM Sharma</td>\n",
       "      <td>Dubai International Cricket Stadium</td>\n",
       "      <td>BF Bowden</td>\n",
       "      <td>M Erasmus</td>\n",
       "    </tr>\n",
       "    <tr>\n",
       "      <th>474</th>\n",
       "      <td>475</td>\n",
       "      <td>IPL-2014</td>\n",
       "      <td>NaN</td>\n",
       "      <td>28-04-2014</td>\n",
       "      <td>Royal Challengers Bangalore</td>\n",
       "      <td>Kings XI Punjab</td>\n",
       "      <td>Kings XI Punjab</td>\n",
       "      <td>field</td>\n",
       "      <td>normal</td>\n",
       "      <td>0</td>\n",
       "      <td>Kings XI Punjab</td>\n",
       "      <td>0</td>\n",
       "      <td>5</td>\n",
       "      <td>Sandeep Sharma</td>\n",
       "      <td>Dubai International Cricket Stadium</td>\n",
       "      <td>BF Bowden</td>\n",
       "      <td>S Ravi</td>\n",
       "    </tr>\n",
       "    <tr>\n",
       "      <th>476</th>\n",
       "      <td>477</td>\n",
       "      <td>IPL-2014</td>\n",
       "      <td>NaN</td>\n",
       "      <td>30-04-2014</td>\n",
       "      <td>Sunrisers Hyderabad</td>\n",
       "      <td>Mumbai Indians</td>\n",
       "      <td>Mumbai Indians</td>\n",
       "      <td>field</td>\n",
       "      <td>normal</td>\n",
       "      <td>0</td>\n",
       "      <td>Sunrisers Hyderabad</td>\n",
       "      <td>15</td>\n",
       "      <td>0</td>\n",
       "      <td>B Kumar</td>\n",
       "      <td>Dubai International Cricket Stadium</td>\n",
       "      <td>HDPK Dharmasena</td>\n",
       "      <td>M Erasmus</td>\n",
       "    </tr>\n",
       "    <tr>\n",
       "      <th>545</th>\n",
       "      <td>546</td>\n",
       "      <td>IPL-2015</td>\n",
       "      <td>Bangalore</td>\n",
       "      <td>29-04-2015</td>\n",
       "      <td>Royal Challengers Bangalore</td>\n",
       "      <td>Rajasthan Royals</td>\n",
       "      <td>Rajasthan Royals</td>\n",
       "      <td>field</td>\n",
       "      <td>no result</td>\n",
       "      <td>0</td>\n",
       "      <td>NaN</td>\n",
       "      <td>0</td>\n",
       "      <td>0</td>\n",
       "      <td>NaN</td>\n",
       "      <td>M Chinnaswamy Stadium</td>\n",
       "      <td>JD Cloete</td>\n",
       "      <td>PG Pathak</td>\n",
       "    </tr>\n",
       "    <tr>\n",
       "      <th>570</th>\n",
       "      <td>571</td>\n",
       "      <td>IPL-2015</td>\n",
       "      <td>Bangalore</td>\n",
       "      <td>17-05-2015</td>\n",
       "      <td>Delhi Daredevils</td>\n",
       "      <td>Royal Challengers Bangalore</td>\n",
       "      <td>Royal Challengers Bangalore</td>\n",
       "      <td>field</td>\n",
       "      <td>no result</td>\n",
       "      <td>0</td>\n",
       "      <td>NaN</td>\n",
       "      <td>0</td>\n",
       "      <td>0</td>\n",
       "      <td>NaN</td>\n",
       "      <td>M Chinnaswamy Stadium</td>\n",
       "      <td>HDPK Dharmasena</td>\n",
       "      <td>K Srinivasan</td>\n",
       "    </tr>\n",
       "    <tr>\n",
       "      <th>744</th>\n",
       "      <td>11340</td>\n",
       "      <td>IPL-2019</td>\n",
       "      <td>Bengaluru</td>\n",
       "      <td>30-04-2019</td>\n",
       "      <td>Royal Challengers Bangalore</td>\n",
       "      <td>Rajasthan Royals</td>\n",
       "      <td>Rajasthan Royals</td>\n",
       "      <td>field</td>\n",
       "      <td>no result</td>\n",
       "      <td>0</td>\n",
       "      <td>NaN</td>\n",
       "      <td>0</td>\n",
       "      <td>0</td>\n",
       "      <td>NaN</td>\n",
       "      <td>M. Chinnaswamy Stadium</td>\n",
       "      <td>Nigel Llong</td>\n",
       "      <td>Ulhas Gandhe</td>\n",
       "    </tr>\n",
       "    <tr>\n",
       "      <th>753</th>\n",
       "      <td>11413</td>\n",
       "      <td>IPL-2019</td>\n",
       "      <td>Visakhapatnam</td>\n",
       "      <td>08-05-2019</td>\n",
       "      <td>Sunrisers Hyderabad</td>\n",
       "      <td>Delhi Capitals</td>\n",
       "      <td>Delhi Capitals</td>\n",
       "      <td>field</td>\n",
       "      <td>normal</td>\n",
       "      <td>0</td>\n",
       "      <td>Delhi Capitals</td>\n",
       "      <td>0</td>\n",
       "      <td>2</td>\n",
       "      <td>RR Pant</td>\n",
       "      <td>ACA-VDCA Stadium</td>\n",
       "      <td>NaN</td>\n",
       "      <td>NaN</td>\n",
       "    </tr>\n",
       "  </tbody>\n",
       "</table>\n",
       "</div>"
      ],
      "text/plain": [
       "        id    Season           city        date                        team1  \\\n",
       "4        5  IPL-2017      Bangalore  08-04-2017  Royal Challengers Bangalore   \n",
       "300    301  IPL-2011          Delhi  21-05-2011             Delhi Daredevils   \n",
       "461    462  IPL-2014            NaN  19-04-2014               Mumbai Indians   \n",
       "462    463  IPL-2014            NaN  19-04-2014        Kolkata Knight Riders   \n",
       "466    467  IPL-2014            NaN  23-04-2014          Chennai Super Kings   \n",
       "468    469  IPL-2014            NaN  25-04-2014          Sunrisers Hyderabad   \n",
       "469    470  IPL-2014            NaN  25-04-2014               Mumbai Indians   \n",
       "474    475  IPL-2014            NaN  28-04-2014  Royal Challengers Bangalore   \n",
       "476    477  IPL-2014            NaN  30-04-2014          Sunrisers Hyderabad   \n",
       "545    546  IPL-2015      Bangalore  29-04-2015  Royal Challengers Bangalore   \n",
       "570    571  IPL-2015      Bangalore  17-05-2015             Delhi Daredevils   \n",
       "744  11340  IPL-2019      Bengaluru  30-04-2019  Royal Challengers Bangalore   \n",
       "753  11413  IPL-2019  Visakhapatnam  08-05-2019          Sunrisers Hyderabad   \n",
       "\n",
       "                           team2                  toss_winner toss_decision  \\\n",
       "4               Delhi Daredevils  Royal Challengers Bangalore           bat   \n",
       "300                Pune Warriors             Delhi Daredevils           bat   \n",
       "461  Royal Challengers Bangalore  Royal Challengers Bangalore         field   \n",
       "462             Delhi Daredevils        Kolkata Knight Riders           bat   \n",
       "466             Rajasthan Royals             Rajasthan Royals         field   \n",
       "468             Delhi Daredevils          Sunrisers Hyderabad           bat   \n",
       "469          Chennai Super Kings               Mumbai Indians           bat   \n",
       "474              Kings XI Punjab              Kings XI Punjab         field   \n",
       "476               Mumbai Indians               Mumbai Indians         field   \n",
       "545             Rajasthan Royals             Rajasthan Royals         field   \n",
       "570  Royal Challengers Bangalore  Royal Challengers Bangalore         field   \n",
       "744             Rajasthan Royals             Rajasthan Royals         field   \n",
       "753               Delhi Capitals               Delhi Capitals         field   \n",
       "\n",
       "        result  dl_applied                       winner  win_by_runs  \\\n",
       "4       normal           0  Royal Challengers Bangalore           15   \n",
       "300  no result           0                          NaN            0   \n",
       "461     normal           0  Royal Challengers Bangalore            0   \n",
       "462     normal           0             Delhi Daredevils            0   \n",
       "466     normal           0          Chennai Super Kings            7   \n",
       "468     normal           0          Sunrisers Hyderabad            4   \n",
       "469     normal           0          Chennai Super Kings            0   \n",
       "474     normal           0              Kings XI Punjab            0   \n",
       "476     normal           0          Sunrisers Hyderabad           15   \n",
       "545  no result           0                          NaN            0   \n",
       "570  no result           0                          NaN            0   \n",
       "744  no result           0                          NaN            0   \n",
       "753     normal           0               Delhi Capitals            0   \n",
       "\n",
       "     win_by_wickets player_of_match                                venue  \\\n",
       "4                 0       KM Jadhav                M Chinnaswamy Stadium   \n",
       "300               0             NaN                     Feroz Shah Kotla   \n",
       "461               7        PA Patel  Dubai International Cricket Stadium   \n",
       "462               4       JP Duminy  Dubai International Cricket Stadium   \n",
       "466               0       RA Jadeja  Dubai International Cricket Stadium   \n",
       "468               0        AJ Finch  Dubai International Cricket Stadium   \n",
       "469               7       MM Sharma  Dubai International Cricket Stadium   \n",
       "474               5  Sandeep Sharma  Dubai International Cricket Stadium   \n",
       "476               0         B Kumar  Dubai International Cricket Stadium   \n",
       "545               0             NaN                M Chinnaswamy Stadium   \n",
       "570               0             NaN                M Chinnaswamy Stadium   \n",
       "744               0             NaN               M. Chinnaswamy Stadium   \n",
       "753               2         RR Pant                     ACA-VDCA Stadium   \n",
       "\n",
       "             umpire1         umpire2  \n",
       "4                NaN             NaN  \n",
       "300        SS Hazare       RJ Tucker  \n",
       "461        Aleem Dar    AK Chaudhary  \n",
       "462        Aleem Dar     VA Kulkarni  \n",
       "466  HDPK Dharmasena  RK Illingworth  \n",
       "468        M Erasmus          S Ravi  \n",
       "469        BF Bowden       M Erasmus  \n",
       "474        BF Bowden          S Ravi  \n",
       "476  HDPK Dharmasena       M Erasmus  \n",
       "545        JD Cloete       PG Pathak  \n",
       "570  HDPK Dharmasena    K Srinivasan  \n",
       "744      Nigel Llong    Ulhas Gandhe  \n",
       "753              NaN             NaN  "
      ]
     },
     "execution_count": 692,
     "metadata": {},
     "output_type": "execute_result"
    }
   ],
   "source": [
    "'''\n",
    "Points to be noted:\n",
    "> The winner is Nan only for those matches when there is draw\n",
    "> The Player of the match  is Nan only for those matches when there is draw\n",
    "> City Nan values is Dubai\n",
    "> Umpire 1 and Umpire 2 are unknown for some matches\n",
    "'''\n",
    "matches_df[matches_df.isna().any(axis=1)]"
   ]
  },
  {
   "cell_type": "code",
   "execution_count": 693,
   "id": "74dba172",
   "metadata": {},
   "outputs": [],
   "source": [
    "# Filling Nans with 'Dubai' in 'city' column\n",
    "matches_df['city'].fillna(value='Dubai',inplace=True)"
   ]
  },
  {
   "cell_type": "code",
   "execution_count": 694,
   "id": "33c291c0",
   "metadata": {},
   "outputs": [],
   "source": [
    "# Filling Nans with 'No-one' in 'player_of_match' column\n",
    "matches_df['player_of_match'].fillna(value='No-one',inplace=True)"
   ]
  },
  {
   "cell_type": "code",
   "execution_count": 695,
   "id": "d2d7b4ce",
   "metadata": {},
   "outputs": [],
   "source": [
    "# Filling Nans with 'Draw' in 'winner' column\n",
    "matches_df['winner'].fillna(value='Draw',inplace=True)"
   ]
  },
  {
   "cell_type": "code",
   "execution_count": 696,
   "id": "5889201b",
   "metadata": {},
   "outputs": [],
   "source": [
    "# Filling Nans of 'umpire1' and 'umpire2' with 'ffill' method\n",
    "matches_df['umpire1'].fillna(value='Aleem Dar',inplace=True)\n",
    "matches_df['umpire2'].fillna(value='Aleem Dar',inplace=True)"
   ]
  },
  {
   "cell_type": "code",
   "execution_count": 697,
   "id": "4f0ec4c4",
   "metadata": {},
   "outputs": [
    {
     "data": {
      "text/plain": [
       "0"
      ]
     },
     "execution_count": 697,
     "metadata": {},
     "output_type": "execute_result"
    }
   ],
   "source": [
    "matches_df.isna().sum().sum()"
   ]
  },
  {
   "cell_type": "code",
   "execution_count": 698,
   "id": "b50befd4",
   "metadata": {},
   "outputs": [],
   "source": [
    "# List of teams who played frequently in almost all seasons\n",
    "teams = [\n",
    "    'Royal Challengers Bangalore', 'Kolkata Knight Riders', 'Kings XI Punjab', 'Sunrisers Hyderabad',\n",
    "    'Mumbai Indians', 'Rajasthan Royals', 'Chennai Super Kings','Delhi Capitals'    \n",
    "]"
   ]
  },
  {
   "cell_type": "code",
   "execution_count": 699,
   "id": "b8ff0b78",
   "metadata": {},
   "outputs": [],
   "source": [
    "matches_df['team1'] = matches_df['team1'].str.replace('Deccan Chargers','Sunrisers Hyderabad')\n",
    "matches_df['team1'] = matches_df['team1'].str.replace('Delhi Daredevils','Delhi Capitals')\n",
    "matches_df['team2'] = matches_df['team2'].str.replace('Deccan Chargers','Sunrisers Hyderabad')\n",
    "matches_df['team2'] = matches_df['team2'].str.replace('Delhi Daredevils','Delhi Capitals')\n",
    "matches_df['winner'] = matches_df['winner'].str.replace('Deccan Chargers','Sunrisers Hyderabad')\n",
    "matches_df['winner'] = matches_df['winner'].str.replace('Delhi Daredevils','Delhi Capitals')\n",
    "\n",
    "deliveries_df['batting_team'] = deliveries_df['batting_team'].str.replace('Deccan Chargers','Sunrisers Hyderabad')\n",
    "deliveries_df['batting_team'] = deliveries_df['batting_team'].str.replace('Delhi Daredevils','Delhi Capitals')\n",
    "deliveries_df['bowling_team'] = deliveries_df['bowling_team'].str.replace('Deccan Chargers','Sunrisers Hyderabad')\n",
    "deliveries_df['bowling_team'] = deliveries_df['bowling_team'].str.replace('Delhi Daredevils','Delhi Capitals')"
   ]
  },
  {
   "cell_type": "code",
   "execution_count": 700,
   "id": "04d70f5e",
   "metadata": {},
   "outputs": [],
   "source": [
    "# discarding the matches for the non-frequent teams\n",
    "x = matches_df['team1'].isin(teams) & matches_df['team2'].isin(teams)\n",
    "matches_df = matches_df.loc[x[x].index]"
   ]
  },
  {
   "cell_type": "code",
   "execution_count": 701,
   "id": "533a97cf",
   "metadata": {},
   "outputs": [],
   "source": [
    "x = deliveries_df['match_id'].isin(matches_df['id'].values)\n",
    "deliveries_df = deliveries_df.loc[x[x].index]"
   ]
  },
  {
   "cell_type": "code",
   "execution_count": 702,
   "id": "ce5c3715",
   "metadata": {},
   "outputs": [
    {
     "data": {
      "text/plain": [
       "array(['Sunrisers Hyderabad', 'Royal Challengers Bangalore',\n",
       "       'Delhi Capitals', 'Kolkata Knight Riders', 'Mumbai Indians',\n",
       "       'Kings XI Punjab', 'Chennai Super Kings', 'Rajasthan Royals'],\n",
       "      dtype=object)"
      ]
     },
     "execution_count": 702,
     "metadata": {},
     "output_type": "execute_result"
    }
   ],
   "source": [
    "deliveries_df['batting_team'].unique()"
   ]
  },
  {
   "cell_type": "code",
   "execution_count": 703,
   "id": "a610115a",
   "metadata": {},
   "outputs": [],
   "source": [
    "# Evaluating the cumulative runs by ball for each inning and match\n",
    "deliveries_df['runs_cumsum']=deliveries_df.groupby(['match_id','inning']).cumsum()['total_runs'].values.tolist()"
   ]
  },
  {
   "cell_type": "code",
   "execution_count": 704,
   "id": "70404009",
   "metadata": {},
   "outputs": [],
   "source": [
    "# For each over there is 6 balls, therefore limiting the official ball count per over to 6\n",
    "deliveries_df.loc[deliveries_df['ball'][deliveries_df['ball']>6].index.tolist(),'ball']  = 6"
   ]
  },
  {
   "cell_type": "code",
   "execution_count": 705,
   "id": "8151c13e",
   "metadata": {},
   "outputs": [],
   "source": [
    "# Evaluating the Current run rate\n",
    "'''\n",
    "Current Run Rate = (Total Runs) / (Number 0f Overs + (Number of Balls/6))\n",
    "'''\n",
    "deliveries_df['curr_run_rate'] =  deliveries_df['runs_cumsum']/((deliveries_df['over']-1)+deliveries_df['ball']/6)"
   ]
  },
  {
   "cell_type": "code",
   "execution_count": 706,
   "id": "3a78da85",
   "metadata": {},
   "outputs": [],
   "source": [
    "# total no. of balls Delivered\n",
    "deliveries_df['total_balls']=(deliveries_df['over']-1)*6 + deliveries_df['ball']"
   ]
  },
  {
   "cell_type": "code",
   "execution_count": 707,
   "id": "57211334",
   "metadata": {},
   "outputs": [],
   "source": [
    "# Total no. of balls left\n",
    "deliveries_df['balls_left'] = 120 - deliveries_df['total_balls']"
   ]
  },
  {
   "cell_type": "code",
   "execution_count": 708,
   "id": "2e32b1d1",
   "metadata": {},
   "outputs": [],
   "source": [
    "# Working out for wickets fall\n",
    "not_out_ind = deliveries_df[deliveries_df['player_dismissed'].isna()].index.tolist()\n",
    "out_ind = deliveries_df.loc[~deliveries_df['player_dismissed'].index.isin(not_out_ind),'player_dismissed'].index.tolist()\n",
    "# for the not out ball index we give it 0 value\n",
    "deliveries_df.loc[not_out_ind,'wicket_fall'] = 0\n",
    "# for the out ball index we give it 1 value\n",
    "deliveries_df.loc[out_ind,'wicket_fall'] = 1\n",
    "# finally we evaluate the total wickets fell down till ball for eavh innings\n",
    "deliveries_df['wicket_fall'] = deliveries_df.groupby(['match_id','inning']).cumsum()['wicket_fall'].values.tolist()"
   ]
  },
  {
   "cell_type": "code",
   "execution_count": 709,
   "id": "a61b0469",
   "metadata": {},
   "outputs": [],
   "source": [
    "deliveries_df.loc[not_out_ind,'player_dismissed'] = 'Not Out'"
   ]
  },
  {
   "cell_type": "code",
   "execution_count": 710,
   "id": "8b4fed1b",
   "metadata": {},
   "outputs": [
    {
     "data": {
      "text/plain": [
       "Index(['match_id', 'inning', 'batting_team', 'bowling_team', 'over', 'ball',\n",
       "       'batsman', 'non_striker', 'bowler', 'is_super_over', 'wide_runs',\n",
       "       'bye_runs', 'legbye_runs', 'noball_runs', 'penalty_runs',\n",
       "       'batsman_runs', 'extra_runs', 'total_runs', 'player_dismissed',\n",
       "       'runs_cumsum', 'curr_run_rate', 'total_balls', 'balls_left',\n",
       "       'wicket_fall'],\n",
       "      dtype='object')"
      ]
     },
     "execution_count": 710,
     "metadata": {},
     "output_type": "execute_result"
    }
   ],
   "source": [
    "deliveries_df.columns"
   ]
  },
  {
   "cell_type": "code",
   "execution_count": 711,
   "id": "cf92cf5d",
   "metadata": {},
   "outputs": [],
   "source": [
    "x = deliveries_df['player_dismissed'] == 'Not Out'\n",
    "deliveries_df.loc[x[x].index,'is_wicket'] = 0\n",
    "x = deliveries_df['player_dismissed'] != 'Not Out'\n",
    "deliveries_df.loc[x[x].index,'is_wicket'] = 1"
   ]
  },
  {
   "cell_type": "code",
   "execution_count": 712,
   "id": "863ca4e4",
   "metadata": {},
   "outputs": [
    {
     "data": {
      "image/png": "[encoded data removed]",
      "text/plain": [
       "<Figure size 576x432 with 1 Axes>"
      ]
     },
     "metadata": {
      "needs_background": "light"
     },
     "output_type": "display_data"
    }
   ],
   "source": [
    "# All time leading runs scorer \n",
    "plt.figure(figsize=(8,6))\n",
    "x = pd.Series(deliveries_df.groupby('batsman').sum()['total_runs']).nlargest(5)\n",
    "labels = x.values\n",
    "colors = sns.color_palette('pastel')\n",
    "ax = x.plot(kind='bar',color=colors)\n",
    "plt.title('All time Leading Runs by batsman',fontsize=18)\n",
    "plt.ylabel('Runs',fontsize=15)\n",
    "plt.xlabel('Batsman',fontsize=15)\n",
    "plt.xticks(rotation=45,ha='right',fontsize=13)\n",
    "plt.bar_label(ax.containers[0],labels=labels)\n",
    "plt.show()"
   ]
  },
  {
   "cell_type": "code",
   "execution_count": 713,
   "id": "bb355b06",
   "metadata": {},
   "outputs": [
    {
     "data": {
      "image/png": "[encoded data removed]",
      "text/plain": [
       "<Figure size 576x432 with 1 Axes>"
      ]
     },
     "metadata": {
      "needs_background": "light"
     },
     "output_type": "display_data"
    }
   ],
   "source": [
    "# All time leading wickets taker\n",
    "plt.figure(figsize=(8,6))\n",
    "x = pd.Series(deliveries_df.groupby('bowler').sum()['is_wicket']).nlargest(5)\n",
    "labels = x.values\n",
    "colors = sns.color_palette('deep')\n",
    "ax = x.plot(kind='bar',color=colors)\n",
    "plt.title('All time Leading Wicket taking Bowler',fontsize=18)\n",
    "plt.ylabel('Wickets',fontsize=15)\n",
    "plt.xlabel('Bowler',fontsize=15)\n",
    "plt.xticks(rotation=45, ha='right', fontsize=12)\n",
    "plt.bar_label(ax.containers[0],labels=labels)\n",
    "plt.show()"
   ]
  },
  {
   "cell_type": "code",
   "execution_count": 714,
   "id": "0b4c666d",
   "metadata": {},
   "outputs": [
    {
     "data": {
      "image/png": "[encoded data removed]",
      "text/plain": [
       "<Figure size 720x432 with 1 Axes>"
      ]
     },
     "metadata": {
      "needs_background": "light"
     },
     "output_type": "display_data"
    }
   ],
   "source": [
    "x = matches_df['winner'].value_counts()\n",
    "labels= x.values\n",
    "colors = sns.color_palette(palette='deep')\n",
    "plt.figure(figsize=(10,6))\n",
    "ax = x.plot(kind='bar',color=colors)\n",
    "plt.title('Most Wins by Teams',fontsize=18)\n",
    "plt.xlabel('Teams',fontsize=15)\n",
    "plt.ylabel('No, of Wins',fontsize=15)\n",
    "plt.xticks(rotation=45,ha='right',fontsize=13)\n",
    "plt.bar_label(ax.containers[0],labels=labels)\n",
    "plt.show()"
   ]
  },
  {
   "cell_type": "code",
   "execution_count": 715,
   "id": "30b2dbde",
   "metadata": {},
   "outputs": [
    {
     "data": {
      "text/html": [
       "<div>\n",
       "<style scoped>\n",
       "    .dataframe tbody tr th:only-of-type {\n",
       "        vertical-align: middle;\n",
       "    }\n",
       "\n",
       "    .dataframe tbody tr th {\n",
       "        vertical-align: top;\n",
       "    }\n",
       "\n",
       "    .dataframe thead th {\n",
       "        text-align: right;\n",
       "    }\n",
       "</style>\n",
       "<table border=\"1\" class=\"dataframe\">\n",
       "  <thead>\n",
       "    <tr style=\"text-align: right;\">\n",
       "      <th></th>\n",
       "      <th>winner</th>\n",
       "      <th>win_by_runs</th>\n",
       "    </tr>\n",
       "  </thead>\n",
       "  <tbody>\n",
       "    <tr>\n",
       "      <th>43</th>\n",
       "      <td>Mumbai Indians</td>\n",
       "      <td>146</td>\n",
       "    </tr>\n",
       "    <tr>\n",
       "      <th>59</th>\n",
       "      <td>Kolkata Knight Riders</td>\n",
       "      <td>140</td>\n",
       "    </tr>\n",
       "    <tr>\n",
       "      <th>556</th>\n",
       "      <td>Royal Challengers Bangalore</td>\n",
       "      <td>138</td>\n",
       "    </tr>\n",
       "    <tr>\n",
       "      <th>706</th>\n",
       "      <td>Sunrisers Hyderabad</td>\n",
       "      <td>118</td>\n",
       "    </tr>\n",
       "    <tr>\n",
       "      <th>295</th>\n",
       "      <td>Kings XI Punjab</td>\n",
       "      <td>111</td>\n",
       "    </tr>\n",
       "  </tbody>\n",
       "</table>\n",
       "</div>"
      ],
      "text/plain": [
       "                          winner  win_by_runs\n",
       "43                Mumbai Indians          146\n",
       "59         Kolkata Knight Riders          140\n",
       "556  Royal Challengers Bangalore          138\n",
       "706          Sunrisers Hyderabad          118\n",
       "295              Kings XI Punjab          111"
      ]
     },
     "execution_count": 715,
     "metadata": {},
     "output_type": "execute_result"
    }
   ],
   "source": [
    "# Top 'win by runs'\n",
    "matches_df[['winner','win_by_runs']].nlargest(columns=['win_by_runs'],n=5)"
   ]
  },
  {
   "cell_type": "code",
   "execution_count": 716,
   "id": "ad1a62be",
   "metadata": {},
   "outputs": [
    {
     "data": {
      "image/png": "[encoded data removed]",
      "text/plain": [
       "<Figure size 720x432 with 1 Axes>"
      ]
     },
     "metadata": {
      "needs_background": "light"
     },
     "output_type": "display_data"
    }
   ],
   "source": [
    "# Player hitting Most Sixes\n",
    "x = deliveries_df['total_runs'] == 6\n",
    "x = pd.Series(deliveries_df.loc[x[x].index,'batsman'].value_counts()).nlargest(10)\n",
    "labels = x.values\n",
    "colors = sns.color_palette(palette='deep')\n",
    "plt.figure(figsize = (10,6))\n",
    "ax = x.plot(kind='bar',color = colors)\n",
    "plt.title('Most Sixes by player',fontsize=18)\n",
    "plt.xlabel('Player Name',fontsize=15)\n",
    "plt.ylabel('No. of Sixes',fontsize=15)\n",
    "plt.bar_label(ax.containers[0],labels=labels)\n",
    "plt.xticks(rotation=45,fontsize=13)\n",
    "plt.show()"
   ]
  },
  {
   "cell_type": "markdown",
   "id": "5a2cfe35",
   "metadata": {},
   "source": [
    "#### Now, We prepare a DataFrame to feed in the model fro predictions"
   ]
  },
  {
   "cell_type": "code",
   "execution_count": 717,
   "id": "0aab832b",
   "metadata": {},
   "outputs": [],
   "source": [
    "final_df = deliveries_df[['match_id', 'inning', 'batting_team', 'bowling_team', 'over', 'ball','total_runs', 'runs_cumsum', 'curr_run_rate',\n",
    "       'total_balls', 'balls_left', 'wicket_fall']]"
   ]
  },
  {
   "cell_type": "code",
   "execution_count": 718,
   "id": "62a53009",
   "metadata": {
    "scrolled": true
   },
   "outputs": [],
   "source": [
    "# Evaluating the target given by the batting team\n",
    "x = deliveries_df.groupby(['match_id','inning']).sum().reset_index()\n",
    "target = x[x['inning']==1][['match_id','total_runs']]\n",
    "final_df = pd.merge(left=final_df,right=target,on='match_id')"
   ]
  },
  {
   "cell_type": "code",
   "execution_count": 719,
   "id": "93ef5ef7",
   "metadata": {},
   "outputs": [],
   "source": [
    "'''\n",
    "Since, win predictions comes into play only in the second inning\n",
    "Therefore, we shall consider 2nd innings from now onwards\n",
    "'''\n",
    "final_df = final_df[final_df['inning']==2]"
   ]
  },
  {
   "cell_type": "code",
   "execution_count": 720,
   "id": "390be9a5",
   "metadata": {
    "scrolled": true
   },
   "outputs": [],
   "source": [
    "# Evaluating the run left and the wickets left\n",
    "final_df['runs_left'] = final_df['total_runs_y'] - final_df['runs_cumsum']\n",
    "final_df['wickets_left'] = 10 - final_df['wicket_fall']"
   ]
  },
  {
   "cell_type": "code",
   "execution_count": 721,
   "id": "5e3686b5",
   "metadata": {},
   "outputs": [],
   "source": [
    "final_df = final_df.reset_index().drop('index',axis=1)"
   ]
  },
  {
   "cell_type": "code",
   "execution_count": 722,
   "id": "9e591621",
   "metadata": {},
   "outputs": [],
   "source": [
    "'''\n",
    "For a team scoring more than required the Reqd. runs may become Negative\n",
    "> To fix it, we adjust the minimum value of runs left to zero\n",
    "'''\n",
    "x = final_df['runs_left']<=0\n",
    "final_df.loc[x[x].index.tolist(),['runs_left']] = 0"
   ]
  },
  {
   "cell_type": "code",
   "execution_count": 723,
   "id": "23c13c83",
   "metadata": {},
   "outputs": [
    {
     "data": {
      "text/plain": [
       "Req_run_rate    39\n",
       "dtype: int64"
      ]
     },
     "execution_count": 723,
     "metadata": {},
     "output_type": "execute_result"
    }
   ],
   "source": [
    "# Evaluating the Required Run Rate (RRR)\n",
    "final_df['Req_run_rate'] = (final_df['runs_left'] * 6)/(final_df['balls_left'])\n",
    "'''\n",
    "Since, for zero runs reqd; balls left can be zero therefore the RRR might become Nans\n",
    "> To fix this issue we fill the Nans of RRR with the previous observation\n",
    "'''\n",
    "\n",
    "final_df.isna().sum()[final_df.isna().sum()>0]"
   ]
  },
  {
   "cell_type": "code",
   "execution_count": 724,
   "id": "dd887b98",
   "metadata": {},
   "outputs": [],
   "source": [
    "# Filling the Nans created above\n",
    "final_df['Req_run_rate'].fillna(method='ffill',inplace=True)"
   ]
  },
  {
   "cell_type": "code",
   "execution_count": 725,
   "id": "b83e38e7",
   "metadata": {},
   "outputs": [
    {
     "data": {
      "text/plain": [
       "Int64Index([  246,   921,  1042,  1289,  1411,  1633,  1634,  1916,  2087,\n",
       "             2855,\n",
       "            ...\n",
       "            69305, 70141, 70368, 71317, 71790, 71791, 71911, 72038, 72278,\n",
       "            73063],\n",
       "           dtype='int64', length=281)"
      ]
     },
     "execution_count": 725,
     "metadata": {},
     "output_type": "execute_result"
    }
   ],
   "source": [
    "x = final_df['Req_run_rate'] == np.inf\n",
    "x[x].index"
   ]
  },
  {
   "cell_type": "code",
   "execution_count": 726,
   "id": "b905e3dc",
   "metadata": {},
   "outputs": [],
   "source": [
    "x = final_df['Req_run_rate'] == np.inf\n",
    "ind = x[x].index.tolist()\n",
    "for i in ind: \n",
    "    final_df.loc[i,'Req_run_rate'] = final_df.loc[i - 1,'Req_run_rate']"
   ]
  },
  {
   "cell_type": "code",
   "execution_count": 727,
   "id": "18d92c66",
   "metadata": {},
   "outputs": [
    {
     "data": {
      "text/plain": [
       "Int64Index([], dtype='int64')"
      ]
     },
     "execution_count": 727,
     "metadata": {},
     "output_type": "execute_result"
    }
   ],
   "source": [
    "x = final_df['Req_run_rate'] == np.inf\n",
    "x[x].index"
   ]
  },
  {
   "cell_type": "code",
   "execution_count": 728,
   "id": "aa2e516f",
   "metadata": {},
   "outputs": [],
   "source": [
    "# Renaming some columns\n",
    "final_df.rename(columns={'total_runs_x':'run_scored','total_runs_y':'target'},inplace=True)"
   ]
  },
  {
   "cell_type": "markdown",
   "id": "89189a73",
   "metadata": {},
   "source": [
    "dl_matches = matches_df[matches_df['dl_applied']==1]['id'].values.tolist()\n",
    "dl_matches\n",
    "\n",
    "final_df.loc[final_df['match_id'].isin(dl_matches)[final_df['match_id'].isin(dl_matches)].index.tolist()]"
   ]
  },
  {
   "cell_type": "code",
   "execution_count": 729,
   "id": "71d2e038",
   "metadata": {},
   "outputs": [],
   "source": [
    "'''\n",
    "Now, finding our target variable i.e the winner of the match\n",
    "'''\n",
    "winner = matches_df[['id','winner']]\n",
    "final_df = pd.merge(left=final_df,right=winner,right_on='id',left_on='match_id')\n",
    "final_df.drop('id',axis=1,inplace=True)"
   ]
  },
  {
   "cell_type": "code",
   "execution_count": 730,
   "id": "c5afbc16",
   "metadata": {},
   "outputs": [],
   "source": [
    "# If the batting wins in second innings, we label it '1'\n",
    "x = final_df['batting_team'] == final_df['winner']\n",
    "final_df.loc[x[x].index.tolist(),'winner'] = 1\n",
    "# If bowling team wins in second inning, we label it '0'\n",
    "x = final_df['bowling_team'] == final_df['winner']\n",
    "final_df.loc[x[x].index.tolist(),'winner'] = 0\n",
    "# If there is a draw ,we label it '2'\n",
    "x = final_df['winner'] == str('Draw')\n",
    "final_df.loc[x[x].index.tolist(),'winner'] = 2"
   ]
  },
  {
   "cell_type": "code",
   "execution_count": 731,
   "id": "a2c15839",
   "metadata": {
    "scrolled": false
   },
   "outputs": [
    {
     "data": {
      "text/html": [
       "<div>\n",
       "<style scoped>\n",
       "    .dataframe tbody tr th:only-of-type {\n",
       "        vertical-align: middle;\n",
       "    }\n",
       "\n",
       "    .dataframe tbody tr th {\n",
       "        vertical-align: top;\n",
       "    }\n",
       "\n",
       "    .dataframe thead th {\n",
       "        text-align: right;\n",
       "    }\n",
       "</style>\n",
       "<table border=\"1\" class=\"dataframe\">\n",
       "  <thead>\n",
       "    <tr style=\"text-align: right;\">\n",
       "      <th></th>\n",
       "      <th>match_id</th>\n",
       "      <th>inning</th>\n",
       "      <th>batting_team</th>\n",
       "      <th>bowling_team</th>\n",
       "      <th>over</th>\n",
       "      <th>ball</th>\n",
       "      <th>run_scored</th>\n",
       "      <th>runs_cumsum</th>\n",
       "      <th>curr_run_rate</th>\n",
       "      <th>total_balls</th>\n",
       "      <th>balls_left</th>\n",
       "      <th>wicket_fall</th>\n",
       "      <th>target</th>\n",
       "      <th>runs_left</th>\n",
       "      <th>wickets_left</th>\n",
       "      <th>Req_run_rate</th>\n",
       "      <th>winner</th>\n",
       "    </tr>\n",
       "  </thead>\n",
       "  <tbody>\n",
       "    <tr>\n",
       "      <th>0</th>\n",
       "      <td>1</td>\n",
       "      <td>2</td>\n",
       "      <td>Royal Challengers Bangalore</td>\n",
       "      <td>Sunrisers Hyderabad</td>\n",
       "      <td>1</td>\n",
       "      <td>1</td>\n",
       "      <td>1</td>\n",
       "      <td>1</td>\n",
       "      <td>6.0</td>\n",
       "      <td>1</td>\n",
       "      <td>119</td>\n",
       "      <td>0.0</td>\n",
       "      <td>207</td>\n",
       "      <td>206</td>\n",
       "      <td>10.0</td>\n",
       "      <td>10.386555</td>\n",
       "      <td>0</td>\n",
       "    </tr>\n",
       "    <tr>\n",
       "      <th>1</th>\n",
       "      <td>1</td>\n",
       "      <td>2</td>\n",
       "      <td>Royal Challengers Bangalore</td>\n",
       "      <td>Sunrisers Hyderabad</td>\n",
       "      <td>1</td>\n",
       "      <td>2</td>\n",
       "      <td>0</td>\n",
       "      <td>1</td>\n",
       "      <td>3.0</td>\n",
       "      <td>2</td>\n",
       "      <td>118</td>\n",
       "      <td>0.0</td>\n",
       "      <td>207</td>\n",
       "      <td>206</td>\n",
       "      <td>10.0</td>\n",
       "      <td>10.474576</td>\n",
       "      <td>0</td>\n",
       "    </tr>\n",
       "    <tr>\n",
       "      <th>2</th>\n",
       "      <td>1</td>\n",
       "      <td>2</td>\n",
       "      <td>Royal Challengers Bangalore</td>\n",
       "      <td>Sunrisers Hyderabad</td>\n",
       "      <td>1</td>\n",
       "      <td>3</td>\n",
       "      <td>0</td>\n",
       "      <td>1</td>\n",
       "      <td>2.0</td>\n",
       "      <td>3</td>\n",
       "      <td>117</td>\n",
       "      <td>0.0</td>\n",
       "      <td>207</td>\n",
       "      <td>206</td>\n",
       "      <td>10.0</td>\n",
       "      <td>10.564103</td>\n",
       "      <td>0</td>\n",
       "    </tr>\n",
       "  </tbody>\n",
       "</table>\n",
       "</div>"
      ],
      "text/plain": [
       "   match_id  inning                 batting_team         bowling_team  over  \\\n",
       "0         1       2  Royal Challengers Bangalore  Sunrisers Hyderabad     1   \n",
       "1         1       2  Royal Challengers Bangalore  Sunrisers Hyderabad     1   \n",
       "2         1       2  Royal Challengers Bangalore  Sunrisers Hyderabad     1   \n",
       "\n",
       "   ball  run_scored  runs_cumsum  curr_run_rate  total_balls  balls_left  \\\n",
       "0     1           1            1            6.0            1         119   \n",
       "1     2           0            1            3.0            2         118   \n",
       "2     3           0            1            2.0            3         117   \n",
       "\n",
       "   wicket_fall  target  runs_left  wickets_left  Req_run_rate winner  \n",
       "0          0.0     207        206          10.0     10.386555      0  \n",
       "1          0.0     207        206          10.0     10.474576      0  \n",
       "2          0.0     207        206          10.0     10.564103      0  "
      ]
     },
     "execution_count": 731,
     "metadata": {},
     "output_type": "execute_result"
    }
   ],
   "source": [
    "final_df.head(3)"
   ]
  },
  {
   "cell_type": "code",
   "execution_count": 732,
   "id": "3c2d84bf",
   "metadata": {},
   "outputs": [],
   "source": [
    "from sklearn.preprocessing import LabelEncoder\n",
    "le = LabelEncoder()\n",
    "final_df['batting_team'] = le.fit_transform(final_df['batting_team'])\n",
    "final_df['bowling_team'] = le.fit_transform(final_df['bowling_team'])"
   ]
  },
  {
   "cell_type": "code",
   "execution_count": 733,
   "id": "6daaaa0d",
   "metadata": {},
   "outputs": [],
   "source": [
    "Y = final_df['winner']\n",
    "X = final_df[[i for i in final_df.columns if i != 'winner']]"
   ]
  },
  {
   "cell_type": "code",
   "execution_count": 748,
   "id": "0969ed54",
   "metadata": {},
   "outputs": [
    {
     "data": {
      "text/plain": [
       "Index(['match_id', 'inning', 'batting_team', 'bowling_team', 'over', 'ball',\n",
       "       'run_scored', 'runs_cumsum', 'curr_run_rate', 'total_balls',\n",
       "       'balls_left', 'wicket_fall', 'target', 'runs_left', 'wickets_left',\n",
       "       'Req_run_rate'],\n",
       "      dtype='object')"
      ]
     },
     "execution_count": 748,
     "metadata": {},
     "output_type": "execute_result"
    }
   ],
   "source": [
    "X.columns"
   ]
  },
  {
   "cell_type": "code",
   "execution_count": 765,
   "id": "c478ef3c",
   "metadata": {},
   "outputs": [],
   "source": [
    "X = X[['batting_team', 'bowling_team','runs_cumsum',\n",
    "       'balls_left', 'wicket_fall', 'target', 'runs_left']]"
   ]
  },
  {
   "cell_type": "code",
   "execution_count": 774,
   "id": "0ca0a556",
   "metadata": {},
   "outputs": [],
   "source": [
    "teams.sort()"
   ]
  },
  {
   "cell_type": "code",
   "execution_count": 775,
   "id": "168db4ac",
   "metadata": {},
   "outputs": [
    {
     "data": {
      "text/plain": [
       "['Chennai Super Kings',\n",
       " 'Delhi Capitals',\n",
       " 'Kings XI Punjab',\n",
       " 'Kolkata Knight Riders',\n",
       " 'Mumbai Indians',\n",
       " 'Rajasthan Royals',\n",
       " 'Royal Challengers Bangalore',\n",
       " 'Sunrisers Hyderabad']"
      ]
     },
     "execution_count": 775,
     "metadata": {},
     "output_type": "execute_result"
    }
   ],
   "source": [
    "teams"
   ]
  },
  {
   "cell_type": "code",
   "execution_count": 766,
   "id": "2eaa5353",
   "metadata": {},
   "outputs": [
    {
     "name": "stdout",
     "output_type": "stream",
     "text": [
      "<class 'pandas.core.series.Series'>\n",
      "Int64Index: 73304 entries, 0 to 73303\n",
      "Series name: winner\n",
      "Non-Null Count  Dtype\n",
      "--------------  -----\n",
      "73304 non-null  int32\n",
      "dtypes: int32(1)\n",
      "memory usage: 2.9 MB\n"
     ]
    }
   ],
   "source": [
    "Y = Y.astype(int)\n",
    "Y.info()"
   ]
  },
  {
   "cell_type": "code",
   "execution_count": 767,
   "id": "37b05212",
   "metadata": {},
   "outputs": [],
   "source": [
    "from sklearn.model_selection import train_test_split\n",
    "from sklearn.ensemble import RandomForestClassifier\n",
    "from sklearn.metrics import mean_squared_error,accuracy_score\n",
    "\n",
    "X_train,X_test,Y_train,Y_test = train_test_split(X,Y,test_size=0.2,random_state=0)\n",
    "rf = RandomForestClassifier(random_state=0)\n",
    "rf.fit(X_train,Y_train)\n",
    "Y_predict = rf.predict(X_test)"
   ]
  },
  {
   "cell_type": "code",
   "execution_count": 768,
   "id": "204b0448",
   "metadata": {},
   "outputs": [
    {
     "data": {
      "text/plain": [
       "0.077474635060938"
      ]
     },
     "execution_count": 768,
     "metadata": {},
     "output_type": "execute_result"
    }
   ],
   "source": [
    "np.sqrt(mean_squared_error(Y_test,Y_predict))"
   ]
  },
  {
   "cell_type": "code",
   "execution_count": 769,
   "id": "8423c3ff",
   "metadata": {},
   "outputs": [
    {
     "data": {
      "text/plain": [
       "0.9939976809221744"
      ]
     },
     "execution_count": 769,
     "metadata": {},
     "output_type": "execute_result"
    }
   ],
   "source": [
    "rf.score(X_test,Y_test)"
   ]
  },
  {
   "cell_type": "code",
   "execution_count": 800,
   "id": "981fce58",
   "metadata": {},
   "outputs": [
    {
     "data": {
      "text/plain": [
       "0.9939976809221744"
      ]
     },
     "execution_count": 800,
     "metadata": {},
     "output_type": "execute_result"
    }
   ],
   "source": [
    "from sklearn.metrics import accuracy_score\n",
    "accuracy_score(Y_test,Y_predict)"
   ]
  },
  {
   "cell_type": "code",
   "execution_count": 795,
   "id": "56e10c68",
   "metadata": {},
   "outputs": [
    {
     "name": "stderr",
     "output_type": "stream",
     "text": [
      "C:\\Users\\HP\\anaconda3\\lib\\site-packages\\sklearn\\base.py:450: UserWarning: X does not have valid feature names, but RandomForestClassifier was fitted with feature names\n",
      "  warnings.warn(\n"
     ]
    },
    {
     "data": {
      "text/plain": [
       "array([[0.48, 0.52, 0.  ]])"
      ]
     },
     "execution_count": 795,
     "metadata": {},
     "output_type": "execute_result"
    }
   ],
   "source": [
    "test = [[1,5,112,30,2,171,59]]\n",
    "rf.predict_proba(test)"
   ]
  },
  {
   "cell_type": "code",
   "execution_count": 776,
   "id": "4b03ed34",
   "metadata": {},
   "outputs": [
    {
     "data": {
      "text/plain": [
       "59"
      ]
     },
     "execution_count": 776,
     "metadata": {},
     "output_type": "execute_result"
    }
   ],
   "source": [
    "171-112"
   ]
  },
  {
   "cell_type": "code",
   "execution_count": null,
   "id": "da91b9af",
   "metadata": {},
   "outputs": [],
   "source": []
  }
 ],
 "metadata": {
  "kernelspec": {
   "display_name": "Python 3 (ipykernel)",
   "language": "python",
   "name": "python3"
  },
  "language_info": {
   "codemirror_mode": {
    "name": "ipython",
    "version": 3
   },
   "file_extension": ".py",
   "mimetype": "text/x-python",
   "name": "python",
   "nbconvert_exporter": "python",
   "pygments_lexer": "ipython3",
   "version": "3.9.12"
  }
 },
 "nbformat": 4,
 "nbformat_minor": 5
}
